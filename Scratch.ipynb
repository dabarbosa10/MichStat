{
  "nbformat": 4,
  "nbformat_minor": 0,
  "metadata": {
    "colab": {
      "name": "Scratch.ipynb",
      "provenance": []
    },
    "kernelspec": {
      "name": "python3",
      "display_name": "Python 3"
    }
  },
  "cells": [
    {
      "cell_type": "code",
      "metadata": {
        "id": "o_drFoihoGol"
      },
      "source": [
        "import matplotlib.pyplot as plt\n",
        "import matplotlib\n",
        "import numpy as np\n",
        "from numpy import ndarray\n",
        "%matplotlib inline\n",
        "\n",
        "from typing import Callable\n",
        "from typing import Dict"
      ],
      "execution_count": 1,
      "outputs": []
    },
    {
      "cell_type": "code",
      "metadata": {
        "colab": {
          "base_uri": "https://localhost:8080/"
        },
        "id": "ifYxelFvoI2n",
        "outputId": "af327cbb-e568-4f1a-abc1-01efeade86fe"
      },
      "source": [
        "print(\"Python list operations: \")\n",
        "a=[1,2,3]\n",
        "b=[4,5,6]\n",
        "print(\"a+b:\", a+b )\n",
        "try:\n",
        "  print(a*b)\n",
        "except TypeError:\n",
        "  print(\"a*b is not a valid operation\")"
      ],
      "execution_count": 2,
      "outputs": [
        {
          "output_type": "stream",
          "text": [
            "Python list operations: \n",
            "a+b: [1, 2, 3, 4, 5, 6]\n",
            "a*b is not a valid operation\n"
          ],
          "name": "stdout"
        }
      ]
    },
    {
      "cell_type": "code",
      "metadata": {
        "colab": {
          "base_uri": "https://localhost:8080/"
        },
        "id": "kTLnsG_SokVq",
        "outputId": "af987d81-6d04-485e-a0b1-8f8e4045fb40"
      },
      "source": [
        "#With NUMPY:\n",
        "a=np.array([1,2,3])\n",
        "b=np.array([4,5,6])\n",
        "print(\"a+b =\", a+b)\n",
        "print(\"a*b =\", a*b)"
      ],
      "execution_count": 5,
      "outputs": [
        {
          "output_type": "stream",
          "text": [
            "a+b = [5 7 9]\n",
            "a*b = [ 4 10 18]\n"
          ],
          "name": "stdout"
        }
      ]
    },
    {
      "cell_type": "code",
      "metadata": {
        "id": "NUUFYtkFpKgQ"
      },
      "source": [
        "#Signature\n",
        "# def func(x1: ndarray, x2: ndarray)-> ndarray (Takes two ndarrays, perform some operations and outputs the result)\n",
        "\n",
        "def sqr(x:ndarray)-> ndarray:\n",
        "  return np.power(x,2)\n",
        "\n",
        "def leak_relu(x: ndarray)->ndarray:\n",
        "  return np.maximum(0.2*x,x)"
      ],
      "execution_count": 6,
      "outputs": []
    },
    {
      "cell_type": "code",
      "metadata": {
        "id": "pTyHeMnuqxT_"
      },
      "source": [
        "x1=np.arange(-1,1,0.001)\n",
        "y1=sqr(x1)\n",
        "y2=leak_relu(x1)"
      ],
      "execution_count": 16,
      "outputs": []
    },
    {
      "cell_type": "code",
      "metadata": {
        "colab": {
          "base_uri": "https://localhost:8080/",
          "height": 421
        },
        "id": "XwFOdVb4rck5",
        "outputId": "ffbbb08c-cf7a-4e5e-b016-b408c3a03ad5"
      },
      "source": [
        "fig, ax= plt.subplots(1,2, sharey=True, figsize=(12,6))\n",
        "ax[0].plot(x1, y1, 'r')\n",
        "ax[0].set_title('Square')\n",
        "ax[0].set_xlabel('x')\n",
        "ax[0].set_ylabel('$x^2$')\n",
        "\n",
        "ax[1].plot(x1, y2, 'r')\n",
        "ax[1].set_title('ReLu')\n",
        "ax[1].set_xlabel('x')\n",
        "ax[1].set_ylabel('$ReLu(x)$')\n"
      ],
      "execution_count": 17,
      "outputs": [
        {
          "output_type": "execute_result",
          "data": {
            "text/plain": [
              "Text(0, 0.5, '$ReLu(x)$')"
            ]
          },
          "metadata": {
            "tags": []
          },
          "execution_count": 17
        },
        {
          "output_type": "display_data",
          "data": {
            "image/png": "[encoded data removed]",
            "text/plain": [
              "<Figure size 864x432 with 2 Axes>"
            ]
          },
          "metadata": {
            "tags": [],
            "needs_background": "light"
          }
        }
      ]
    },
    {
      "cell_type": "code",
      "metadata": {
        "id": "YApEPAEEsQYK"
      },
      "source": [
        "def derivative(func:Callable[[ndarray], ndarray], input_:ndarray, delta: float=0.001)->ndarray:\n",
        "  return(func(input_+delta)-func(input_-delta))/(2*delta)"
      ],
      "execution_count": 18,
      "outputs": []
    },
    {
      "cell_type": "code",
      "metadata": {
        "id": "-10GIMjAzRyR"
      },
      "source": [
        ""
      ],
      "execution_count": null,
      "outputs": []
    }
  ]
}