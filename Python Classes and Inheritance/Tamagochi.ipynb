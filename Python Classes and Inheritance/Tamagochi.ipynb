{
 "cells": [
  {
   "cell_type": "code",
   "execution_count": 1,
   "metadata": {},
   "outputs": [],
   "source": [
    "from random import randrange"
   ]
  },
  {
   "cell_type": "code",
   "execution_count": 3,
   "metadata": {},
   "outputs": [],
   "source": [
    "class Pet():\n",
    "    boredom_decrement = 4\n",
    "    hunger_decrement = 6\n",
    "    boredom_threshold = 5\n",
    "    hunger_threshold = 10\n",
    "    sounds = [\"Mrrp\"]\n",
    "    \n",
    "    def __init__(self, name = \"Kitty\"):\n",
    "        self.name=name\n",
    "        self.hunger = randrange(self.hunger_threshold)\n",
    "        self.boredom = randrange(self.boredom_threshold)\n",
    "        self.sounds = self.sounds[:]\n",
    "        \n",
    "    def clock_tick(self):\n",
    "        self.boredom +=1\n",
    "        self.hunger +=1\n",
    "        \n",
    "    def mood(self):\n",
    "        if self.hunger<= self.hunger_threshold and self.boredom<=self.boredom_threshold:\n",
    "            return \"happy\"\n",
    "        elif self.hunger > self.hunger_threshold:\n",
    "            return \"hungry\"\n",
    "        else:\n",
    "            return \"bored\"\n",
    "    \n",
    "    def __str__(self):\n",
    "        state= \"  I'm \" + self.name + \". \"\n",
    "        state+= \"I feel \" + self.mood() + \". \"\n",
    "        return state\n",
    "    \n",
    "    def hi(self):\n",
    "        print(self.sounds[randrange(len(self.sounds))])\n",
    "        self.reduce_boredom()\n",
    "        \n",
    "    def teach(self,word):\n",
    "        self.sounds.append(word)\n",
    "        self.reduce_boredom()\n",
    "    \n",
    "    def feed(self):\n",
    "        self.reduce_hunger()\n",
    "        \n",
    "    def reduce_hunger(self):\n",
    "        self.hunger= max(0, self.hunger - self.hunger_decrement)\n",
    "        \n",
    "    def reduce_boredom(self):\n",
    "        self.boredom=max(0, self.boredom-self.boredom_decrement)"
   ]
  },
  {
   "cell_type": "code",
   "execution_count": 4,
   "metadata": {},
   "outputs": [
    {
     "name": "stdout",
     "output_type": "stream",
     "text": [
      "  I'm Topi. I feel happy. \n"
     ]
    }
   ],
   "source": [
    "p1= Pet(\"Topi\")\n",
    "print(p1)"
   ]
  },
  {
   "cell_type": "code",
   "execution_count": 5,
   "metadata": {},
   "outputs": [
    {
     "name": "stdout",
     "output_type": "stream",
     "text": [
      "  I'm Topi. I feel happy. \n",
      "  I'm Topi. I feel bored. \n",
      "  I'm Topi. I feel bored. \n",
      "  I'm Topi. I feel bored. \n",
      "  I'm Topi. I feel bored. \n",
      "  I'm Topi. I feel bored. \n",
      "  I'm Topi. I feel bored. \n",
      "  I'm Topi. I feel bored. \n",
      "  I'm Topi. I feel hungry. \n",
      "  I'm Topi. I feel hungry. \n"
     ]
    }
   ],
   "source": [
    "for i in range (10):\n",
    "    p1.clock_tick()\n",
    "    print(p1)"
   ]
  },
  {
   "cell_type": "code",
   "execution_count": 6,
   "metadata": {},
   "outputs": [],
   "source": [
    "p1.feed()"
   ]
  },
  {
   "cell_type": "code",
   "execution_count": 7,
   "metadata": {},
   "outputs": [
    {
     "name": "stdout",
     "output_type": "stream",
     "text": [
      "Mrrp\n"
     ]
    }
   ],
   "source": [
    "p1.hi()"
   ]
  },
  {
   "cell_type": "code",
   "execution_count": 8,
   "metadata": {},
   "outputs": [],
   "source": [
    "p1.teach(\"Hol\")"
   ]
  },
  {
   "cell_type": "code",
   "execution_count": 9,
   "metadata": {},
   "outputs": [
    {
     "name": "stdout",
     "output_type": "stream",
     "text": [
      "Mrrp\n",
      "Mrrp\n",
      "Hol\n",
      "Hol\n",
      "Hol\n",
      "Hol\n",
      "Mrrp\n",
      "Mrrp\n",
      "Hol\n",
      "Hol\n",
      "  I'm Topi. I feel happy. \n"
     ]
    }
   ],
   "source": [
    "for i in range(10):\n",
    "    p1.hi()\n",
    "print(p1)"
   ]
  },
  {
   "cell_type": "code",
   "execution_count": null,
   "metadata": {},
   "outputs": [],
   "source": []
  }
 ],
 "metadata": {
  "kernelspec": {
   "display_name": "Python 3",
   "language": "python",
   "name": "python3"
  },
  "language_info": {
   "codemirror_mode": {
    "name": "ipython",
    "version": 3
   },
   "file_extension": ".py",
   "mimetype": "text/x-python",
   "name": "python",
   "nbconvert_exporter": "python",
   "pygments_lexer": "ipython3",
   "version": "3.7.6"
  }
 },
 "nbformat": 4,
 "nbformat_minor": 4
}
