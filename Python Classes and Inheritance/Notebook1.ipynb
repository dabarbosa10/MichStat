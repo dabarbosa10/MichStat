{
 "cells": [
  {
   "cell_type": "code",
   "execution_count": 1,
   "metadata": {},
   "outputs": [],
   "source": [
    "CURRENT_YEAR=2019\n",
    "class Person:\n",
    "    def __init__(self, name,year_born):\n",
    "        self.name=name\n",
    "        self.year_born=year_born\n",
    "    def getAge(self):\n",
    "        return CURRENT_YEAR - self.year_born \n",
    "    def __str__(self):\n",
    "        return '{}({})'.format(self.name, self.getAge())\n",
    "    "
   ]
  },
  {
   "cell_type": "code",
   "execution_count": 2,
   "metadata": {},
   "outputs": [
    {
     "name": "stdout",
     "output_type": "stream",
     "text": [
      "Alice Smith(29)\n"
     ]
    }
   ],
   "source": [
    "alice=Person('Alice Smith', 1990)\n",
    "print(alice)"
   ]
  },
  {
   "cell_type": "code",
   "execution_count": 3,
   "metadata": {},
   "outputs": [],
   "source": [
    "class Student:\n",
    "    def __init__(self, name,year_born):\n",
    "        self.name=name\n",
    "        self.year_born=year_born\n",
    "        self.knowledge=0\n",
    "    def study(self):\n",
    "        self.knowledge+=1\n",
    "    def getAge(self):\n",
    "        return CURRENT_YEAR - self.year_born \n",
    "    def __str__(self):\n",
    "        return '{}({})'.format(self.name, self.getAge())"
   ]
  },
  {
   "cell_type": "code",
   "execution_count": 4,
   "metadata": {},
   "outputs": [
    {
     "name": "stdout",
     "output_type": "stream",
     "text": [
      "Alice Smith(29)\n"
     ]
    }
   ],
   "source": [
    "alice=Student('Alice Smith', 1990)\n",
    "print(alice)"
   ]
  },
  {
   "cell_type": "code",
   "execution_count": 6,
   "metadata": {},
   "outputs": [
    {
     "name": "stdout",
     "output_type": "stream",
     "text": [
      "0\n"
     ]
    }
   ],
   "source": [
    "print(alice.knowledge)"
   ]
  },
  {
   "cell_type": "code",
   "execution_count": 8,
   "metadata": {},
   "outputs": [],
   "source": [
    "alice.study()"
   ]
  },
  {
   "cell_type": "code",
   "execution_count": 9,
   "metadata": {},
   "outputs": [
    {
     "name": "stdout",
     "output_type": "stream",
     "text": [
      "1\n"
     ]
    }
   ],
   "source": [
    "print(alice.knowledge)"
   ]
  },
  {
   "cell_type": "code",
   "execution_count": 10,
   "metadata": {},
   "outputs": [],
   "source": [
    "#inheritance\n",
    "class student1(Person):\n",
    "    def __init__(self, name,year_born):\n",
    "        Person.__init__(self,name,year_born)\n",
    "        self.knowledge=0\n",
    "    def study(self):\n",
    "        self.knowledge+=1"
   ]
  },
  {
   "cell_type": "code",
   "execution_count": 11,
   "metadata": {},
   "outputs": [],
   "source": [
    "Gabriela=student1('Gabriela Smith', 1998)\n",
    "Gabriela.study()"
   ]
  },
  {
   "cell_type": "code",
   "execution_count": 12,
   "metadata": {},
   "outputs": [
    {
     "name": "stdout",
     "output_type": "stream",
     "text": [
      "1\n"
     ]
    }
   ],
   "source": [
    "print(Gabriela.knowledge)"
   ]
  },
  {
   "cell_type": "code",
   "execution_count": null,
   "metadata": {},
   "outputs": [],
   "source": []
  }
 ],
 "metadata": {
  "kernelspec": {
   "display_name": "Python 3",
   "language": "python",
   "name": "python3"
  },
  "language_info": {
   "codemirror_mode": {
    "name": "ipython",
    "version": 3
   },
   "file_extension": ".py",
   "mimetype": "text/x-python",
   "name": "python",
   "nbconvert_exporter": "python",
   "pygments_lexer": "ipython3",
   "version": "3.7.6"
  }
 },
 "nbformat": 4,
 "nbformat_minor": 4
}
