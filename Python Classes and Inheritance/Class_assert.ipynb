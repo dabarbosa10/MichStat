{
 "cells": [
  {
   "cell_type": "code",
   "execution_count": 1,
   "metadata": {},
   "outputs": [],
   "source": [
    "def update_counts(letters, counts_d):\n",
    "    for c in letters:\n",
    "        counts_d[c]=1\n",
    "        if c in counts_d:\n",
    "            counts_d[c]=counts_d[c]+1\n",
    "    return counts_d[c]\n"
   ]
  },
  {
   "cell_type": "code",
   "execution_count": 2,
   "metadata": {},
   "outputs": [
    {
     "data": {
      "text/plain": [
       "2"
      ]
     },
     "execution_count": 2,
     "metadata": {},
     "output_type": "execute_result"
    }
   ],
   "source": [
    "counts={'a':3,'b':2}\n",
    "update_counts(\"aaab\",counts)"
   ]
  },
  {
   "cell_type": "code",
   "execution_count": 7,
   "metadata": {},
   "outputs": [],
   "source": [
    "class Point:\n",
    "    \n",
    "    def __init__(self,initX,initY):\n",
    "        self.x=initX\n",
    "        self.y=initY\n",
    "    \n",
    "    def distanceFromOrigin(self):\n",
    "        return ((self.x**2)+(self.y**2))**0.5\n",
    "    \n",
    "    def move(self, dx, dy):\n",
    "        self.x=self.x+dx\n",
    "        self.y=self.y+dy"
   ]
  },
  {
   "cell_type": "code",
   "execution_count": 8,
   "metadata": {},
   "outputs": [],
   "source": [
    "p=Point(3,4)\n",
    "assert p.y==4\n",
    "assert p.x==3"
   ]
  },
  {
   "cell_type": "code",
   "execution_count": 9,
   "metadata": {},
   "outputs": [],
   "source": [
    "#Testing the distance method\n",
    "p=Point(3,4)\n",
    "assert p.distanceFromOrigin()==5"
   ]
  },
  {
   "cell_type": "code",
   "execution_count": 10,
   "metadata": {},
   "outputs": [],
   "source": [
    "#testing the move method\n",
    "p=Point(3,4)\n",
    "p.move(-2,3)\n",
    "assert p.x==1\n",
    "assert p.y==7"
   ]
  },
  {
   "cell_type": "code",
   "execution_count": null,
   "metadata": {},
   "outputs": [],
   "source": []
  }
 ],
 "metadata": {
  "kernelspec": {
   "display_name": "Python 3",
   "language": "python",
   "name": "python3"
  },
  "language_info": {
   "codemirror_mode": {
    "name": "ipython",
    "version": 3
   },
   "file_extension": ".py",
   "mimetype": "text/x-python",
   "name": "python",
   "nbconvert_exporter": "python",
   "pygments_lexer": "ipython3",
   "version": "3.7.6"
  }
 },
 "nbformat": 4,
 "nbformat_minor": 4
}
