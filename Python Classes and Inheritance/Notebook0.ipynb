{
 "cells": [
  {
   "cell_type": "code",
   "execution_count": 3,
   "metadata": {},
   "outputs": [
    {
     "name": "stdout",
     "output_type": "stream",
     "text": [
      "<__main__.Point object at 0x7fcb4dfb8450>\n",
      "<__main__.Point object at 0x7fcb4dfb8490>\n",
      "False\n"
     ]
    }
   ],
   "source": [
    "class Point():\n",
    "    def getX(self):\n",
    "        return self.x\n",
    "\n",
    "\n",
    "#Two instances\n",
    "point1=Point()\n",
    "point2=Point()\n",
    "\n",
    "print(point1)\n",
    "print(point2)\n",
    "print(point1==point2)"
   ]
  },
  {
   "cell_type": "code",
   "execution_count": 4,
   "metadata": {},
   "outputs": [
    {
     "name": "stdout",
     "output_type": "stream",
     "text": [
      "5\n",
      "10\n"
     ]
    }
   ],
   "source": [
    "point1.x=5\n",
    "point2.x=10\n",
    "print(point1.getX())\n",
    "print(point2.getX())"
   ]
  },
  {
   "cell_type": "code",
   "execution_count": null,
   "metadata": {},
   "outputs": [],
   "source": []
  }
 ],
 "metadata": {
  "kernelspec": {
   "display_name": "Python 3",
   "language": "python",
   "name": "python3"
  },
  "language_info": {
   "codemirror_mode": {
    "name": "ipython",
    "version": 3
   },
   "file_extension": ".py",
   "mimetype": "text/x-python",
   "name": "python",
   "nbconvert_exporter": "python",
   "pygments_lexer": "ipython3",
   "version": "3.7.6"
  }
 },
 "nbformat": 4,
 "nbformat_minor": 4
}
