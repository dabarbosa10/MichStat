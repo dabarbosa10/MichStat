{
 "cells": [
  {
   "cell_type": "code",
   "execution_count": 1,
   "metadata": {},
   "outputs": [],
   "source": [
    "import math\n",
    "\n",
    "class Point:\n",
    "    \"\"\"Point class for representing and manipulating x,y coordinates\"\"\"\n",
    "    def __init__(self, initX, initY):\n",
    "        self.x=initX\n",
    "        self.y=initY\n",
    "        \n",
    "    def getX(self):\n",
    "        return self.x\n",
    "    \n",
    "    def getY(self):\n",
    "        return self.y\n",
    "    \n",
    "    def distanceFromOrigin(self):\n",
    "        return ((self.x**2)+self.y**2)**0.5\n",
    "    \n",
    "    def halfway(self, target):\n",
    "        mx= (self.x + target.x)/2\n",
    "        my= (self.y + target.y)/2\n",
    "        return Point(mx, my)\n",
    "    \n",
    "    def __add__(self, otherPoint): #one of the points pass to self and the other to \"otherPoint\"\n",
    "        return Point(self.x+ otherPoint.x, self.y+otherPoint.y)\n",
    "    \n",
    "    def __str__(self):\n",
    "        return 'Point (x= {}, y= {})'.format(self.x, self.y)\n",
    "    \n",
    "    def __sub__(self, otherPoint): #one of the points pass to self and the other to \"otherPoint\"\n",
    "        return Point(self.x- otherPoint.x, self.y-otherPoint.y)\n",
    "                                      \n",
    "    \n",
    "def distance(point1,point2):\n",
    "    xdiff=point2.getX()-point1.getX()\n",
    "    ydiff=point2.getY()-point1.getY()\n",
    "    dist=math.sqrt(xdiff**2+ydiff**2)\n",
    "    return dist\n",
    "\n",
    "p=Point(3,4)\n",
    "q=Point(5,12)    "
   ]
  },
  {
   "cell_type": "code",
   "execution_count": 2,
   "metadata": {},
   "outputs": [
    {
     "name": "stdout",
     "output_type": "stream",
     "text": [
      "Point (x= -5, y= 10)\n",
      "Point (x= 15, y= 20)\n"
     ]
    }
   ],
   "source": [
    "p1=Point(-5,10)\n",
    "p2=Point(15,20)\n",
    "print(p1)\n",
    "print(p2)"
   ]
  },
  {
   "cell_type": "code",
   "execution_count": 3,
   "metadata": {},
   "outputs": [
    {
     "name": "stdout",
     "output_type": "stream",
     "text": [
      "Point (x= 10, y= 30)\n"
     ]
    }
   ],
   "source": [
    "print(p1+p2)"
   ]
  },
  {
   "cell_type": "code",
   "execution_count": 4,
   "metadata": {},
   "outputs": [
    {
     "name": "stdout",
     "output_type": "stream",
     "text": [
      "Point (x= -20, y= -10)\n"
     ]
    }
   ],
   "source": [
    "print(p1 - p2)"
   ]
  },
  {
   "cell_type": "code",
   "execution_count": 5,
   "metadata": {},
   "outputs": [
    {
     "name": "stdout",
     "output_type": "stream",
     "text": [
      "Point (x= 4.0, y= 8.0)\n"
     ]
    }
   ],
   "source": [
    "mid = p.halfway(q)\n",
    "print(mid)"
   ]
  },
  {
   "cell_type": "code",
   "execution_count": 9,
   "metadata": {},
   "outputs": [],
   "source": [
    "class Fruit():\n",
    "    def __init__(self, name, price):\n",
    "        self.name= name\n",
    "        self.price= price\n",
    "    def sort_priority(self):\n",
    "        return self.price"
   ]
  },
  {
   "cell_type": "code",
   "execution_count": 12,
   "metadata": {},
   "outputs": [],
   "source": [
    "L=[Fruit('Cherry', 10), Fruit('Apple', 5), Fruit('Blueberry', 20)]\n"
   ]
  },
  {
   "cell_type": "code",
   "execution_count": 13,
   "metadata": {},
   "outputs": [
    {
     "name": "stdout",
     "output_type": "stream",
     "text": [
      "Apple\n",
      "Cherry\n",
      "Blueberry\n"
     ]
    }
   ],
   "source": [
    "for fruit in (sorted(L,key=Fruit.sort_priority)):\n",
    "    print(fruit.name)\n",
    "    "
   ]
  },
  {
   "cell_type": "code",
   "execution_count": 15,
   "metadata": {},
   "outputs": [
    {
     "name": "stdout",
     "output_type": "stream",
     "text": [
      "['Apple', 'Cherry', 'Blueberry']\n"
     ]
    }
   ],
   "source": [
    "L1=[\"Cherry\", \"Apple\", \"Blueberry\"]\n",
    "print(sorted(L1,key=len))"
   ]
  },
  {
   "cell_type": "code",
   "execution_count": null,
   "metadata": {},
   "outputs": [],
   "source": []
  }
 ],
 "metadata": {
  "kernelspec": {
   "display_name": "Python 3",
   "language": "python",
   "name": "python3"
  },
  "language_info": {
   "codemirror_mode": {
    "name": "ipython",
    "version": 3
   },
   "file_extension": ".py",
   "mimetype": "text/x-python",
   "name": "python",
   "nbconvert_exporter": "python",
   "pygments_lexer": "ipython3",
   "version": "3.7.6"
  }
 },
 "nbformat": 4,
 "nbformat_minor": 4
}
