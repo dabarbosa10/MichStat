{
 "cells": [
  {
   "cell_type": "code",
   "execution_count": 3,
   "metadata": {},
   "outputs": [],
   "source": [
    "import math\n",
    "\n",
    "class Point:\n",
    "    \"\"\"Point class for representing and manipulating x,y coordinates\"\"\"\n",
    "    def __init__(self, initX, initY):\n",
    "        self.x=initX\n",
    "        self.y=initY\n",
    "    def getX(self):\n",
    "        return self.x\n",
    "    def getY(self):\n",
    "        return self.y\n",
    "    def distanceFromOrigin(self):\n",
    "        return ((self.x**2)+self.y**2)**0.5\n",
    "    \n",
    "    \n",
    "def distance(point1,point2):\n",
    "    xdiff=point2.getX()-point1.getX()\n",
    "    ydiff=point2.getY()-point1.getY()\n",
    "    dist=math.sqrt(xdiff**2+ydiff**2)\n",
    "    return dist\n",
    "\n",
    "p=Point(4,3)\n",
    "q=Point(0,0)    "
   ]
  },
  {
   "cell_type": "code",
   "execution_count": 4,
   "metadata": {},
   "outputs": [
    {
     "name": "stdout",
     "output_type": "stream",
     "text": [
      "5.0\n"
     ]
    }
   ],
   "source": [
    "print(distance(p,q))"
   ]
  },
  {
   "cell_type": "code",
   "execution_count": null,
   "metadata": {},
   "outputs": [],
   "source": []
  }
 ],
 "metadata": {
  "kernelspec": {
   "display_name": "Python 3",
   "language": "python",
   "name": "python3"
  },
  "language_info": {
   "codemirror_mode": {
    "name": "ipython",
    "version": 3
   },
   "file_extension": ".py",
   "mimetype": "text/x-python",
   "name": "python",
   "nbconvert_exporter": "python",
   "pygments_lexer": "ipython3",
   "version": "3.7.6"
  }
 },
 "nbformat": 4,
 "nbformat_minor": 4
}
