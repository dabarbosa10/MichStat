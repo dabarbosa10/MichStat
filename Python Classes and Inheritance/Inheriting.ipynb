{
 "cells": [
  {
   "cell_type": "code",
   "execution_count": 1,
   "metadata": {},
   "outputs": [],
   "source": [
    "#Inheriting Variables and Methods\n",
    "\n",
    "CURRENT_YEAR=2019\n",
    "\n",
    "class Person:\n",
    "    def __init__(self, name, year_born):\n",
    "        self.name=name\n",
    "        self.year_born=year_born\n",
    "        \n",
    "    def getAge(self):\n",
    "        return CURRENT_YEAR - self.year_born\n",
    "    \n",
    "    def __str__(self):\n",
    "        return '{} ({})'.format(self.name, self.getAge())"
   ]
  },
  {
   "cell_type": "code",
   "execution_count": 2,
   "metadata": {},
   "outputs": [
    {
     "name": "stdout",
     "output_type": "stream",
     "text": [
      "Alice Smith (29)\n"
     ]
    }
   ],
   "source": [
    "alice=Person('Alice Smith', 1990)\n",
    "print(alice)"
   ]
  },
  {
   "cell_type": "code",
   "execution_count": 3,
   "metadata": {},
   "outputs": [],
   "source": [
    "class Student:\n",
    "    def __init__(self, name, year_born):\n",
    "        self.name=name\n",
    "        self.year_born=year_born\n",
    "        self.knowledge=0\n",
    "        \n",
    "    def getAge(self):\n",
    "        return CURRENT_YEAR - self.year_born\n",
    "    \n",
    "    def study(self):\n",
    "        self.knowledge +=1\n",
    "    \n",
    "    def __str__(self):\n",
    "        return '{} ({}), knowledge: {}'.format(self.name, self.getAge(), self.knowledge)"
   ]
  },
  {
   "cell_type": "code",
   "execution_count": 4,
   "metadata": {},
   "outputs": [],
   "source": [
    "al=Student('Al Pacino', 1940)"
   ]
  },
  {
   "cell_type": "code",
   "execution_count": 5,
   "metadata": {},
   "outputs": [
    {
     "name": "stdout",
     "output_type": "stream",
     "text": [
      "Al Pacino (79), knowledge: 0\n"
     ]
    }
   ],
   "source": [
    "print(al)"
   ]
  },
  {
   "cell_type": "code",
   "execution_count": 6,
   "metadata": {},
   "outputs": [],
   "source": [
    "al.study()"
   ]
  },
  {
   "cell_type": "code",
   "execution_count": 7,
   "metadata": {},
   "outputs": [
    {
     "name": "stdout",
     "output_type": "stream",
     "text": [
      "Al Pacino (79), knowledge: 1\n"
     ]
    }
   ],
   "source": [
    "print(al)"
   ]
  },
  {
   "cell_type": "code",
   "execution_count": 8,
   "metadata": {},
   "outputs": [],
   "source": [
    "class Stdent(Person):\n",
    "    \n",
    "    def __init__(self, name, year_born):\n",
    "        Person.__init__(self, name, year_born)\n",
    "        self.knowledge=0\n",
    "        \n",
    "    def study(self):\n",
    "        self.knowledge +=1"
   ]
  },
  {
   "cell_type": "code",
   "execution_count": 9,
   "metadata": {},
   "outputs": [],
   "source": [
    "Albert=Stdent('Albert Einstein', 1879)"
   ]
  },
  {
   "cell_type": "code",
   "execution_count": 10,
   "metadata": {},
   "outputs": [
    {
     "name": "stdout",
     "output_type": "stream",
     "text": [
      "Albert Einstein (140)\n"
     ]
    }
   ],
   "source": [
    "print(Albert)"
   ]
  },
  {
   "cell_type": "code",
   "execution_count": 11,
   "metadata": {},
   "outputs": [],
   "source": [
    "Albert.study()"
   ]
  },
  {
   "cell_type": "code",
   "execution_count": 12,
   "metadata": {},
   "outputs": [
    {
     "name": "stdout",
     "output_type": "stream",
     "text": [
      "1\n"
     ]
    }
   ],
   "source": [
    "print(Albert.knowledge)"
   ]
  },
  {
   "cell_type": "code",
   "execution_count": 13,
   "metadata": {},
   "outputs": [
    {
     "data": {
      "text/plain": [
       "140"
      ]
     },
     "execution_count": 13,
     "metadata": {},
     "output_type": "execute_result"
    }
   ],
   "source": [
    "Albert.getAge()"
   ]
  },
  {
   "cell_type": "code",
   "execution_count": 14,
   "metadata": {},
   "outputs": [],
   "source": [
    "from random import randrange"
   ]
  },
  {
   "cell_type": "code",
   "execution_count": 15,
   "metadata": {},
   "outputs": [],
   "source": [
    "class Pet():\n",
    "    boredom_decrement = 4\n",
    "    hunger_decrement = 6\n",
    "    boredom_threshold = 5\n",
    "    hunger_threshold = 10\n",
    "    sounds = [\"Mrrp\"]\n",
    "    \n",
    "    def __init__(self, name = \"Kitty\"):\n",
    "        self.name=name\n",
    "        self.hunger = randrange(self.hunger_threshold)\n",
    "        self.boredom = randrange(self.boredom_threshold)\n",
    "        self.sounds = self.sounds[:]\n",
    "        \n",
    "    def clock_tick(self):\n",
    "        self.boredom +=1\n",
    "        self.hunger +=1\n",
    "        \n",
    "    def mood(self):\n",
    "        if self.hunger<= self.hunger_threshold and self.boredom<=self.boredom_threshold:\n",
    "            return \"happy\"\n",
    "        elif self.hunger > self.hunger_threshold:\n",
    "            return \"hungry\"\n",
    "        else:\n",
    "            return \"bored\"\n",
    "    \n",
    "    def __str__(self):\n",
    "        state= \"  I'm \" + self.name + \". \"\n",
    "        state+= \"I feel \" + self.mood() + \". \"\n",
    "        return state\n",
    "    \n",
    "    def hi(self):\n",
    "        print(self.sounds[randrange(len(self.sounds))])\n",
    "        self.reduce_boredom()\n",
    "        \n",
    "    def teach(self,word):\n",
    "        self.sounds.append(word)\n",
    "        self.reduce_boredom()\n",
    "    \n",
    "    def feed(self):\n",
    "        self.reduce_hunger()\n",
    "        \n",
    "    def reduce_hunger(self):\n",
    "        self.hunger= max(0, self.hunger - self.hunger_decrement)\n",
    "        \n",
    "    def reduce_boredom(self):\n",
    "        self.boredom=max(0, self.boredom-self.boredom_decrement)"
   ]
  },
  {
   "cell_type": "code",
   "execution_count": 16,
   "metadata": {},
   "outputs": [],
   "source": [
    "class Cat(Pet):\n",
    "    sounds = ['Meow']\n",
    "    \n",
    "    def chasing_rats(self):\n",
    "        return \"What are you doing, Pinky? Taking over the world?\""
   ]
  },
  {
   "cell_type": "code",
   "execution_count": 17,
   "metadata": {},
   "outputs": [
    {
     "name": "stdout",
     "output_type": "stream",
     "text": [
      "  I'm Frenchie. I feel happy. \n"
     ]
    }
   ],
   "source": [
    "p1 = Pet(\"Frenchie\")\n",
    "print(p1)"
   ]
  },
  {
   "cell_type": "code",
   "execution_count": 18,
   "metadata": {},
   "outputs": [
    {
     "name": "stdout",
     "output_type": "stream",
     "text": [
      "Mrrp\n",
      "  I'm Frenchie. I feel happy. \n"
     ]
    }
   ],
   "source": [
    "p1.feed()\n",
    "p1.hi()\n",
    "print(p1)"
   ]
  },
  {
   "cell_type": "code",
   "execution_count": 19,
   "metadata": {},
   "outputs": [
    {
     "name": "stdout",
     "output_type": "stream",
     "text": [
      "  I'm Topi. I feel happy. \n"
     ]
    }
   ],
   "source": [
    "cat1=Cat(\"Topi\")\n",
    "print(cat1)"
   ]
  },
  {
   "cell_type": "code",
   "execution_count": 20,
   "metadata": {},
   "outputs": [
    {
     "name": "stdout",
     "output_type": "stream",
     "text": [
      "Meow\n",
      "  I'm Topi. I feel happy. \n"
     ]
    }
   ],
   "source": [
    "cat1.feed()\n",
    "cat1.hi()\n",
    "print(cat1)"
   ]
  },
  {
   "cell_type": "code",
   "execution_count": 21,
   "metadata": {},
   "outputs": [
    {
     "name": "stdout",
     "output_type": "stream",
     "text": [
      "What are you doing, Pinky? Taking over the world?\n"
     ]
    }
   ],
   "source": [
    "print(cat1.chasing_rats())"
   ]
  },
  {
   "cell_type": "code",
   "execution_count": 22,
   "metadata": {},
   "outputs": [],
   "source": [
    "class Book():\n",
    "    \n",
    "    def __init__(self, title, author):\n",
    "        self.title= title\n",
    "        self.author=author\n",
    "        \n",
    "    def __str__(self):\n",
    "        return '{} by {}'.format(self.title, self.author)\n",
    "    "
   ]
  },
  {
   "cell_type": "code",
   "execution_count": 23,
   "metadata": {},
   "outputs": [],
   "source": [
    "myBook= Book('The Odyssey', 'Homer')"
   ]
  },
  {
   "cell_type": "code",
   "execution_count": 24,
   "metadata": {},
   "outputs": [
    {
     "name": "stdout",
     "output_type": "stream",
     "text": [
      "The Odyssey by Homer\n"
     ]
    }
   ],
   "source": [
    "print(myBook)"
   ]
  },
  {
   "cell_type": "code",
   "execution_count": 25,
   "metadata": {},
   "outputs": [],
   "source": [
    "class PaperBook(Book):\n",
    "    \n",
    "    def __init__(self, title, author, numPages):\n",
    "        Book.__init__(self,title, author)\n",
    "        self.numPages=numPages\n",
    "        \n",
    "class EBook(Book):\n",
    "    \n",
    "    def __init__(self, title, author, size):\n",
    "        Book.__init__(self, title, author)\n",
    "        self.size=size"
   ]
  },
  {
   "cell_type": "code",
   "execution_count": 26,
   "metadata": {},
   "outputs": [],
   "source": [
    "myBook=EBook('The Odyssey', 'Homer', 2)"
   ]
  },
  {
   "cell_type": "code",
   "execution_count": 27,
   "metadata": {},
   "outputs": [
    {
     "name": "stdout",
     "output_type": "stream",
     "text": [
      "2\n"
     ]
    }
   ],
   "source": [
    "print(myBook.size)"
   ]
  },
  {
   "cell_type": "code",
   "execution_count": 28,
   "metadata": {},
   "outputs": [],
   "source": [
    "myPaperBook = PaperBook('The Odyssey', 'Homer', 500)"
   ]
  },
  {
   "cell_type": "code",
   "execution_count": 29,
   "metadata": {},
   "outputs": [
    {
     "name": "stdout",
     "output_type": "stream",
     "text": [
      "500\n"
     ]
    }
   ],
   "source": [
    "print(myPaperBook.numPages)"
   ]
  },
  {
   "cell_type": "code",
   "execution_count": 30,
   "metadata": {},
   "outputs": [],
   "source": [
    "class Library:\n",
    "    \n",
    "    def __init__(self):\n",
    "        self.books=[]\n",
    "    \n",
    "    def addBook(self, book):\n",
    "        self.books.append(book)\n",
    "    \n",
    "    def getNumBooks(self):\n",
    "        return len(self.books)"
   ]
  },
  {
   "cell_type": "code",
   "execution_count": 31,
   "metadata": {},
   "outputs": [
    {
     "name": "stdout",
     "output_type": "stream",
     "text": [
      "2\n"
     ]
    }
   ],
   "source": [
    "addl=Library()\n",
    "addl.addBook(myBook)\n",
    "addl.addBook(myPaperBook)\n",
    "\n",
    "print(addl.getNumBooks())"
   ]
  },
  {
   "cell_type": "code",
   "execution_count": null,
   "metadata": {},
   "outputs": [],
   "source": []
  }
 ],
 "metadata": {
  "kernelspec": {
   "display_name": "Python 3",
   "language": "python",
   "name": "python3"
  },
  "language_info": {
   "codemirror_mode": {
    "name": "ipython",
    "version": 3
   },
   "file_extension": ".py",
   "mimetype": "text/x-python",
   "name": "python",
   "nbconvert_exporter": "python",
   "pygments_lexer": "ipython3",
   "version": "3.7.6"
  }
 },
 "nbformat": 4,
 "nbformat_minor": 4
}
